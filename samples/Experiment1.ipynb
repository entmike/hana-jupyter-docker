{
 "cells": [
  {
   "cell_type": "code",
   "execution_count": 1,
   "metadata": {},
   "outputs": [
    {
     "data": {
      "text/plain": [
       "'0.24.2'"
      ]
     },
     "execution_count": 1,
     "metadata": {},
     "output_type": "execute_result"
    }
   ],
   "source": [
    "import pandas as pd\n",
    "import numpy as np\n",
    "import matplotlib.pyplot as plt\n",
    "pd.__version__"
   ]
  },
  {
   "cell_type": "code",
   "execution_count": 2,
   "metadata": {},
   "outputs": [
    {
     "data": {
      "text/plain": [
       "[('HOST_LOAD_HISTORY_SERVICE_BASE', 47304, 3427159),\n",
       " ('HOST_VOLUME_IO_DETAILED_STATISTICS_BASE', 37080, 1671306),\n",
       " ('HOST_VOLUME_IO_RETRY_STATISTICS_BASE', 37080, 1108454),\n",
       " ('HOST_SERVICE_STATISTICS_BASE', 24493, 1369999),\n",
       " ('HOST_SQL_PLAN_CACHE_BASE', 24465, 4068258),\n",
       " ('HOST_LOAD_HISTORY_HOST_BASE', 23660, 1573599),\n",
       " ('HOST_SERVICE_THREAD_SAMPLES_STATEMENTS_BASE', 23231, 1491420),\n",
       " ('HOST_SERVICE_MEMORY_BASE', 20399, 1011886),\n",
       " ('RS_COLUMNS_', 17786, 6087624),\n",
       " ('P_OBJECTDEPENDENCY_', 17099, 3178496),\n",
       " ('AFL_FUNCTION_PROPERTIES_', 14671, 4959944),\n",
       " ('TASK_LOCALIZATION_', 6888, 48832),\n",
       " ('HOST_DATA_VOLUME_PAGE_STATISTICS_BASE', 6592, 583864),\n",
       " ('AFL_FUNCTION_PARAMETERS_', 5697, 1520728),\n",
       " ('P_AUTHDEPENDENCIES_', 5613, 1277952),\n",
       " ('GLOBAL_DISKS_BASE', 4944, 355071),\n",
       " ('HOST_SERVICE_NETWORK_IO_BASE', 4929, 352142),\n",
       " ('P_OBJECTS_', 4840, 672608),\n",
       " ('HOST_VOLUME_IO_TOTAL_STATISTICS_BASE', 4120, 831182),\n",
       " ('HOST_RESOURCE_UTILIZATION_STATISTICS_BASE', 4094, 507856),\n",
       " ('HOST_WORKLOAD_BASE', 4094, 740733),\n",
       " ('CS_COLUMNS_', 3914, 1172240),\n",
       " ('P_PROCPARAMS_', 3684, 907872),\n",
       " ('P_PRIVAVAILABILITY_', 3438, 835584),\n",
       " ('P_GRANTEDPRIVS_', 3197, 458752),\n",
       " ('HOST_SERVICE_COMPONENT_MEMORY_BASE', 2695, 213076),\n",
       " ('P_EXTERNALOWNERSHIPS_', 2023, 278528),\n",
       " ('P_EXTERNALOBJS_', 2008, 344272),\n",
       " ('HOST_SERVICE_THREAD_SAMPLES_BASE', 1443, 880816),\n",
       " ('HOST_UNCOMMITTED_WRITE_TRANSACTION_BASE', 1285, 303621),\n",
       " ('STATISTICS_OBJECTS_PROFILES', 1146, 55568),\n",
       " ('STATISTICS_OBJECTS_PROFILES_BACKUP', 1146, 55568),\n",
       " ('RS_TABLES_', 888, 427472),\n",
       " ('RS_VIEWS_', 830, 1296560),\n",
       " ('P_SYNONYMS_', 830, 188008),\n",
       " ('GLOBAL_PERSISTENCE_STATISTICS_BASE', 824, 199256),\n",
       " ('HOST_DATA_VOLUME_SUPERBLOCK_STATISTICS_BASE', 824, 245945),\n",
       " ('P_PROCEDURES_', 823, 1993896),\n",
       " ('HOST_SAVEPOINTS_BASE', 799, 525233),\n",
       " ('P_INDEXES_', 648, 154176),\n",
       " ('GLOBAL_ROWSTORE_TABLES_SIZE_BASE', 592, 331056),\n",
       " ('HOST_DELTA_MERGE_STATISTICS_BASE', 576, 370524),\n",
       " ('HOST_HEAP_ALLOCATORS_BASE', 558, 537806),\n",
       " ('HOST_RS_MEMORY_BASE', 518, 205205),\n",
       " ('AFL_FUNCTIONS_', 435, 106000),\n",
       " ('HOST_VOLUME_FILES_BASE', 360, 208634),\n",
       " ('TOPOLOGY_INFORMATION_', 348, 60616),\n",
       " ('HOST_COLUMN_TABLES_PART_SIZE_BASE', 308, 507962),\n",
       " ('CS_TABLES_', 288, 139584),\n",
       " ('STATISTICS_OBJECTS', 230, 25960),\n",
       " ('STATISTICS_ALERT_THRESHOLDS', 195, 18520),\n",
       " ('STATISTICS_ALERT_THRESHOLDS_PROFILES_BACKUP', 195, 16384),\n",
       " ('STATISTICS_SCHEDULE', 191, 32960),\n",
       " ('INIFILE_CONTENT_HISTORY_', 167, 57696),\n",
       " ('LICENSE_MEASUREMENTS_', 160, 19568),\n",
       " ('STATISTICS_ALERTS_BASE', 148, 229776),\n",
       " ('HELPER_ALERT_CHECK_DEPRECATED_FEATURE_USAGE_LASTVALUES', 126, 20408),\n",
       " ('STATISTICS_ALERT_INFORMATION', 124, 51776),\n",
       " ('STATISTICS_FOLLOW_UP_ALERT_LAST_SEVERITY', 115, 65536),\n",
       " ('TEL_SYSTEM_OVERVIEW_BASE', 112, 70100),\n",
       " ('HELPER_ALERT_COLUMN_TABLES_SIZE_GROWTH_LASTVALUES', 100, 20136),\n",
       " ('_SYS_OBJECT_PRIVILEGES', 98, 51200),\n",
       " ('P_PRIVILEGES_', 97, 17888),\n",
       " ('RUNTIME_INFO', 79, 70901),\n",
       " ('T_DEFAULT_DI_ADMIN_PRIVILEGES', 79, 47636),\n",
       " ('STATISTICS_EMAIL_PROCESSING', 79, 81920),\n",
       " ('HOST_SQL_PLAN_CACHE_OVERVIEW_BASE', 74, 348622),\n",
       " ('TEL_HOST_INFORMATION_BASE', 72, 57497),\n",
       " ('HOST_OBJECT_LOCK_STATISTICS_BASE', 71, 90885),\n",
       " ('T_DEFAULT_CONTAINER_GROUP_ADMIN_PRIVILEGES', 67, 47636),\n",
       " ('T_DEFAULT_CONTAINER_ADMIN_PRIVILEGES', 66, 47636),\n",
       " ('T_DEFAULT_CONTAINER_USER_PRIVILEGES', 59, 47636),\n",
       " ('TEL_FEATURE_USAGE_BASE', 57, 70100),\n",
       " ('HOST_JOB_HISTORY_BASE', 57, 165058),\n",
       " ('HOST_MVCC_OVERVIEW_BASE', 56, 198754),\n",
       " ('P_DATATYPES_', 55, 16480),\n",
       " ('TEL_DISK_USAGE_BASE', 48, 57473),\n",
       " ('HOST_OBJECT_LOCKS_BASE', 44, 75988),\n",
       " ('P_PRINCIPALS_', 41, 17296),\n",
       " ('T_DEFAULT_LIBRARIES', 40, 40687),\n",
       " ('T_DEFAULT_COMMON_PRIVILEGES', 39, 50122),\n",
       " ('CS_JOIN_CONDITIONS_', 37, 20680),\n",
       " ('P_OBJTYPES_', 37, 16584),\n",
       " ('P_ASSIGNEDROLES_', 30, 16384),\n",
       " ('P_SCHEMAS_', 27, 16768),\n",
       " ('P_TRIGGERS_', 24, 53184),\n",
       " ('TEL_INIFILE_CONTENTS_BASE', 24, 86492),\n",
       " ('CS_VIEW_ATTRIBUTES_', 19, 17304),\n",
       " ('P_EXTENDED_INDEXES_', 19, 16888),\n",
       " ('CS_ATTRIBUTE_MAPPING_', 19, 17240),\n",
       " ('ADAPTERS_', 18, 62064),\n",
       " ('ADAPTER_LOCATIONS_', 18, 16384),\n",
       " ('P_LIBRARY_MEMBERS_', 17, 19144),\n",
       " ('P_USER_PASSWORD_', 17, 16384),\n",
       " ('P_USERS_', 17, 16536),\n",
       " ('STATISTICS_FOLLOW_UP_CONFIGURATION_SECTIONS', 14, 16680),\n",
       " ('CONFIGURATION', 12, 16576),\n",
       " ('HOST_ONE_DAY_FILE_COUNT_BASE', 12, 70910),\n",
       " ('AFL_TEXTS_', 11, 16544),\n",
       " ('P_SUBOBJTYPES_', 11, 16536)]"
      ]
     },
     "execution_count": 2,
     "metadata": {},
     "output_type": "execute_result"
    }
   ],
   "source": [
    "# https://help.sap.com/viewer/0eec0d68141541d1b07893a39944924e/2.0.02/en-US/f3b8fabf34324302b123297cdbe710f0.html\n",
    "from hdbcli import dbapi\n",
    "conn = dbapi.connect(\n",
    "    address=\"hxe\",\n",
    "    port=39017,\n",
    "    user=\"SYSTEM\",\n",
    "    password=\"HXEHana1\"\n",
    ")\n",
    "with conn.cursor() as cursor:\n",
    "    cursor.execute(\"SELECT TOP 100 table_name, record_count, table_size FROM M_TABLES ORDER BY record_count DESC;\")\n",
    "    result = cursor.fetchall()\n",
    "\n",
    "result"
   ]
  },
  {
   "cell_type": "code",
   "execution_count": null,
   "metadata": {},
   "outputs": [],
   "source": []
  }
 ],
 "metadata": {
  "kernelspec": {
   "display_name": "Python 3",
   "language": "python",
   "name": "python3"
  },
  "language_info": {
   "codemirror_mode": {
    "name": "ipython",
    "version": 3
   },
   "file_extension": ".py",
   "mimetype": "text/x-python",
   "name": "python",
   "nbconvert_exporter": "python",
   "pygments_lexer": "ipython3",
   "version": "3.7.3"
  }
 },
 "nbformat": 4,
 "nbformat_minor": 2
}
